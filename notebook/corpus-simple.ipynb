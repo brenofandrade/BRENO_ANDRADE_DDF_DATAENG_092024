{
 "cells": [
  {
   "cell_type": "markdown",
   "id": "55d08c87-adef-4cba-991a-258846e611ba",
   "metadata": {},
   "source": [
    "# Case Dadosfera para Engenheiro de dados\n",
    "\n"
   ]
  },
  {
   "cell_type": "markdown",
   "id": "72629bc3-cdf2-4750-8be4-dd241938f5fc",
   "metadata": {},
   "source": [
    "# Item 2"
   ]
  },
  {
   "cell_type": "code",
   "execution_count": 1,
   "id": "9780e779-ffa5-4a27-88a4-2a2bd6f63f07",
   "metadata": {},
   "outputs": [],
   "source": [
    "import pandas as pd\n",
    "import numpy as np"
   ]
  },
  {
   "cell_type": "code",
   "execution_count": 2,
   "id": "5e70f429-b859-4b5f-a954-db638a1c02f2",
   "metadata": {},
   "outputs": [],
   "source": [
    "url = 'https://huggingface.co/datasets/spacemanidol/product-search-corpus/resolve/main/corpus-simple.jsonl'"
   ]
  },
  {
   "cell_type": "code",
   "execution_count": 3,
   "id": "ad103121-6cd4-442c-ae97-905118e5be8c",
   "metadata": {},
   "outputs": [
    {
     "name": "stdout",
     "output_type": "stream",
     "text": [
      "{\"docid\": 1, \"title\": \"FYY Leather Case with Mirror for Samsung Galaxy S8 Plus, Leather Wallet Flip Folio Case with Mirror and Wrist Strap for Samsung Galaxy S8 Plus Black\", \"text\": \"Product Description Premium PU Leather Top quality. Made with Premium PU Leather. Receiver design. Accurate cut-out for receiver. Convenient to Answer the phone without open the case. Hand strap makes it easy to carry around. RFID Technique RFID Technique: Radio Frequency Identification technology, through radio signals to identify specific targets and to read and copy electronic data. Most Credit Cards, Debit Cards, ID Cards are set-in the RFID chip, the RFID reader can easily read the cards information within 10 feet(about 3m) without touching them. This case is designed to protect your cards information from stealing with blocking material of RFID shielding technology. 100% Handmade 100% Handmade. Perfect craftmanship and reinforced stitching makes it even more durable. Sleek, practical and elegant with a variety of dashing colors. Multiple Functions Card slots are designed for you to put your photo, debit card, credit card or ID card while on the go. Unique design. Cosmetic Mirror inside made for your makeup and beauty. Perfect Viewing Angle. Kickstand function is convenient for movie-watching or video-chatting. Space amplification, convenient to unlock. Kickstand function is convenient for movie-watching or video-chatting. \"}\n",
      "\n",
      "{\"docid\": 2, \"title\": \"Playtex Women's 18 Hour Easy On, Easy Off Front & Back Close Post Surgery Bra US400C\", \"text\": \"Product Description Introducing Playtex 18 hour front & back close wireless bra designed for dressing ease and versatility. Our newest wire free bra is designed in a soft, seamless cotton comfort blend for a smooth look under clothing and incredible comfort against your skin. Designed to offer the convenience of front close bra and a back close bra for easy fastening and removal. Wide comfort straps are soft against the skin. Product Description Introducing Playtex 18 hour front & back close wireless bra designed for dressing ease and versatility. Our newest wire free bra is designed in a soft, seamless cotton comfort blend for a smooth look under clothing and incredible comfort against your skin. Designed to offer the convenience of front close bra and a back close bra for easy fastening and removal. Wide comfort straps are soft against the skin.\"}\n",
      "\n",
      "{\"docid\": 4, \"title\": \"YUEPIN U-Tube Clamp 304 Stainless Steel Hose Pipe Cable Strap Clips With Rubber Cushioned (1-21/32\\\"(42mm)-10pcs)\", \"text\": \"Product Description Specification: Material: 304 Stainless Steel,100% New Rubber Color: Silver Shape: U Shape Quantity: 10 Pieces Note: Note: Since the size above is measured by hand, the size of the actual item you received could be slightly different from the size above. Product Description Specification: Material: 304 Stainless Steel,100% New Rubber Color: Silver Shape: U Shape Quantity: 10 Pieces Note: Note: Since the size above is measured by hand, the size of the actual item you received could be slightly different from the size above.\"}\n",
      "\n",
      "{\"docid\": 5, \"title\": \"Bruce's Big Storm (Mother Bruce Series)\", \"text\": \"\"}\n",
      "\n",
      "{\"docid\": 6, \"title\": \"DJI Shoulder Neck Strap Belt Sling Lanyard Necklaces for Dji Phantom 3 Inspire 1 Remote\", \"text\": \"Product Description Specifications: Item Conditon : Brand New Item name : Remote Controller Strap Color : Black Model : DJI Inspire 1 DJI &DJI phantom 3 professional With beautiful and adjustable design Package Includes: 1 x original neck strap for DJI phantom 3 and inspire 1 (The transmitter is not included) Product Description Specifications: Item Conditon : Brand New Item name : Remote Controller Strap Color : Black Model : DJI Inspire 1 DJI &DJI phantom 3 professional With beautiful and adjustable design Package Includes: 1 x original neck strap for DJI phantom 3 and inspire 1 (The transmitter is not included)\"}\n",
      "\n"
     ]
    }
   ],
   "source": [
    "with open('corpus-simple.jsonl', 'r') as f:\n",
    "    for i in range(5):\n",
    "        print(f.readline())\n"
   ]
  },
  {
   "cell_type": "code",
   "execution_count": 4,
   "id": "ae34b20f-f492-4dcb-8e66-2341d450e18f",
   "metadata": {},
   "outputs": [
    {
     "name": "stdout",
     "output_type": "stream",
     "text": [
      "(1118658, 3)\n"
     ]
    },
    {
     "data": {
      "text/html": [
       "<div>\n",
       "<style scoped>\n",
       "    .dataframe tbody tr th:only-of-type {\n",
       "        vertical-align: middle;\n",
       "    }\n",
       "\n",
       "    .dataframe tbody tr th {\n",
       "        vertical-align: top;\n",
       "    }\n",
       "\n",
       "    .dataframe thead th {\n",
       "        text-align: right;\n",
       "    }\n",
       "</style>\n",
       "<table border=\"1\" class=\"dataframe\">\n",
       "  <thead>\n",
       "    <tr style=\"text-align: right;\">\n",
       "      <th></th>\n",
       "      <th>docid</th>\n",
       "      <th>title</th>\n",
       "      <th>text</th>\n",
       "    </tr>\n",
       "  </thead>\n",
       "  <tbody>\n",
       "    <tr>\n",
       "      <th>0</th>\n",
       "      <td>1</td>\n",
       "      <td>FYY Leather Case with Mirror for Samsung Galax...</td>\n",
       "      <td>Product Description Premium PU Leather Top qua...</td>\n",
       "    </tr>\n",
       "    <tr>\n",
       "      <th>1</th>\n",
       "      <td>2</td>\n",
       "      <td>Playtex Women's 18 Hour Easy On, Easy Off Fron...</td>\n",
       "      <td>Product Description Introducing Playtex 18 hou...</td>\n",
       "    </tr>\n",
       "  </tbody>\n",
       "</table>\n",
       "</div>"
      ],
      "text/plain": [
       "   docid                                              title  \\\n",
       "0      1  FYY Leather Case with Mirror for Samsung Galax...   \n",
       "1      2  Playtex Women's 18 Hour Easy On, Easy Off Fron...   \n",
       "\n",
       "                                                text  \n",
       "0  Product Description Premium PU Leather Top qua...  \n",
       "1  Product Description Introducing Playtex 18 hou...  "
      ]
     },
     "execution_count": 4,
     "metadata": {},
     "output_type": "execute_result"
    }
   ],
   "source": [
    "# Read the large JSONL file in chunks and process\n",
    "chunk_size = 10000  # Adjust chunk size according to your memory capacity\n",
    "\n",
    "df_list = []  # To store the chunks\n",
    "\n",
    "for chunk in pd.read_json('corpus-simple.jsonl', lines=True, chunksize=chunk_size):\n",
    "    df_list.append(chunk)\n",
    "\n",
    "# Concatenate all chunks into a single DataFrame\n",
    "df = pd.concat(df_list, ignore_index=True)\n",
    "\n",
    "print(df.shape)\n",
    "df.head(2)"
   ]
  },
  {
   "cell_type": "code",
   "execution_count": 5,
   "id": "690a1dd5-4030-4568-a997-e6f602233897",
   "metadata": {},
   "outputs": [],
   "source": [
    "df.sample(20).to_csv(\"dados.csv\", index=False)"
   ]
  },
  {
   "cell_type": "markdown",
   "id": "77cb57d6-ae61-4adc-878c-1eb17174f541",
   "metadata": {},
   "source": [
    "# Dicionário de dados \n",
    "\n",
    "\n",
    "\n",
    "O conjunto de dados contém 3 colunas e 1.118.658 linhas.\n",
    "\n",
    "> **docid** (tipo INT): Coluna com o índice dos documentos;\n",
    "\n",
    "> **title** (tipo TEXT): Coluna com o título do documento;\n",
    "\n",
    "> **text** (tipo TEXT): Coluna com o corpo do documento; "
   ]
  },
  {
   "cell_type": "code",
   "execution_count": 6,
   "id": "1ddf9fc8-ded4-4799-af89-2dde8bec0607",
   "metadata": {},
   "outputs": [
    {
     "data": {
      "text/plain": [
       "docid    0\n",
       "title    0\n",
       "text     0\n",
       "dtype: int64"
      ]
     },
     "execution_count": 6,
     "metadata": {},
     "output_type": "execute_result"
    }
   ],
   "source": [
    "df.isnull().sum()"
   ]
  },
  {
   "cell_type": "code",
   "execution_count": 7,
   "id": "2afe9baf-2723-491d-abd9-e15a937ed741",
   "metadata": {},
   "outputs": [],
   "source": [
    "df_clean = df.replace(r'^\\s*$', np.nan, regex=True)"
   ]
  },
  {
   "cell_type": "code",
   "execution_count": 8,
   "id": "428e994e-9b95-48b2-a466-04055bed4929",
   "metadata": {},
   "outputs": [
    {
     "data": {
      "text/plain": [
       "docid         0\n",
       "title     38554\n",
       "text     222918\n",
       "dtype: int64"
      ]
     },
     "execution_count": 8,
     "metadata": {},
     "output_type": "execute_result"
    }
   ],
   "source": [
    "df_clean.isnull().sum()"
   ]
  },
  {
   "cell_type": "markdown",
   "id": "38acf22f-2e83-4a60-9d2e-9db5995a1b63",
   "metadata": {},
   "source": [
    "# Valores ausentes\n",
    "\n",
    "\n",
    "Foram encontrados valores ausentes nas colunas title e text\n",
    "\n",
    "title = 38.554 (3.4%)\n",
    "\n",
    "text = 222.918 (19.9%)"
   ]
  },
  {
   "cell_type": "markdown",
   "id": "e91bbe93-94d9-4c99-b796-c7c4695b298e",
   "metadata": {},
   "source": [
    "# Item 3"
   ]
  },
  {
   "cell_type": "markdown",
   "id": "9e65bfac-df82-40db-8694-b15a9462c14b",
   "metadata": {},
   "source": [
    "Problema: \n",
    "\n",
    "A partir de um conjunto de dados contendo **título** e **texto**, extrair features que são dados relacionados aos itens.\n",
    "\n",
    "\n",
    "Solução:\n",
    "\n",
    "É possível construir uma solução com **Transformers** usando o modelo BERT, por exemplo, que receba o texto, faça uma classificação de entidades nomeadas e retorne os dados numa forma estruturada para depois ser utilizado por uma área de inteligência de negócio ou sirva para análises de segmentação de mercado a partir da aglomeração dos resultados por grupos (cluster)."
   ]
  },
  {
   "cell_type": "code",
   "execution_count": null,
   "id": "de292252-edcb-47c4-875c-670bfa053a73",
   "metadata": {},
   "outputs": [],
   "source": []
  },
  {
   "cell_type": "markdown",
   "id": "24fd7dcb-8da4-4444-a6ad-c740d1e3cf17",
   "metadata": {},
   "source": [
    "# Item 4"
   ]
  },
  {
   "cell_type": "code",
   "execution_count": null,
   "id": "f30f2379-00a3-435d-8a2c-57d4502e3263",
   "metadata": {},
   "outputs": [],
   "source": []
  }
 ],
 "metadata": {
  "kernelspec": {
   "display_name": "Python 3 (ipykernel)",
   "language": "python",
   "name": "python3"
  },
  "language_info": {
   "codemirror_mode": {
    "name": "ipython",
    "version": 3
   },
   "file_extension": ".py",
   "mimetype": "text/x-python",
   "name": "python",
   "nbconvert_exporter": "python",
   "pygments_lexer": "ipython3",
   "version": "3.11.7"
  }
 },
 "nbformat": 4,
 "nbformat_minor": 5
}
